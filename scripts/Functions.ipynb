{
 "cells": [
  {
   "cell_type": "code",
   "execution_count": 1,
   "metadata": {},
   "outputs": [
    {
     "name": "stdout",
     "output_type": "stream",
     "text": [
      "Collecting numpy (from -r requirements.txt (line 1))\n",
      "  Using cached numpy-2.2.1-cp312-cp312-win_amd64.whl.metadata (60 kB)\n",
      "Collecting matplotlib (from -r requirements.txt (line 2))\n",
      "  Downloading matplotlib-3.10.0-cp312-cp312-win_amd64.whl.metadata (11 kB)\n",
      "Collecting contourpy>=1.0.1 (from matplotlib->-r requirements.txt (line 2))\n",
      "  Downloading contourpy-1.3.1-cp312-cp312-win_amd64.whl.metadata (5.4 kB)\n",
      "Collecting cycler>=0.10 (from matplotlib->-r requirements.txt (line 2))\n",
      "  Downloading cycler-0.12.1-py3-none-any.whl.metadata (3.8 kB)\n",
      "Collecting fonttools>=4.22.0 (from matplotlib->-r requirements.txt (line 2))\n",
      "  Downloading fonttools-4.55.3-cp312-cp312-win_amd64.whl.metadata (168 kB)\n",
      "Collecting kiwisolver>=1.3.1 (from matplotlib->-r requirements.txt (line 2))\n",
      "  Downloading kiwisolver-1.4.8-cp312-cp312-win_amd64.whl.metadata (6.3 kB)\n",
      "Requirement already satisfied: packaging>=20.0 in c:\\users\\mende\\chus\\programacion\\repositorios\\practicing\\.venv\\lib\\site-packages (from matplotlib->-r requirements.txt (line 2)) (24.2)\n",
      "Collecting pillow>=8 (from matplotlib->-r requirements.txt (line 2))\n",
      "  Downloading pillow-11.1.0-cp312-cp312-win_amd64.whl.metadata (9.3 kB)\n",
      "Collecting pyparsing>=2.3.1 (from matplotlib->-r requirements.txt (line 2))\n",
      "  Using cached pyparsing-3.2.1-py3-none-any.whl.metadata (5.0 kB)\n",
      "Requirement already satisfied: python-dateutil>=2.7 in c:\\users\\mende\\chus\\programacion\\repositorios\\practicing\\.venv\\lib\\site-packages (from matplotlib->-r requirements.txt (line 2)) (2.9.0.post0)\n",
      "Requirement already satisfied: six>=1.5 in c:\\users\\mende\\chus\\programacion\\repositorios\\practicing\\.venv\\lib\\site-packages (from python-dateutil>=2.7->matplotlib->-r requirements.txt (line 2)) (1.17.0)\n",
      "Using cached numpy-2.2.1-cp312-cp312-win_amd64.whl (12.6 MB)\n",
      "Downloading matplotlib-3.10.0-cp312-cp312-win_amd64.whl (8.0 MB)\n",
      "   ---------------------------------------- 0.0/8.0 MB ? eta -:--:--\n",
      "   - -------------------------------------- 0.3/8.0 MB ? eta -:--:--\n",
      "   ---------------- ----------------------- 3.4/8.0 MB 12.6 MB/s eta 0:00:01\n",
      "   ---------------------------------------- 8.0/8.0 MB 18.5 MB/s eta 0:00:00\n",
      "Downloading contourpy-1.3.1-cp312-cp312-win_amd64.whl (220 kB)\n",
      "Downloading cycler-0.12.1-py3-none-any.whl (8.3 kB)\n",
      "Downloading fonttools-4.55.3-cp312-cp312-win_amd64.whl (2.2 MB)\n",
      "   ---------------------------------------- 0.0/2.2 MB ? eta -:--:--\n",
      "   ---------------------------------------- 2.2/2.2 MB 41.4 MB/s eta 0:00:00\n",
      "Downloading kiwisolver-1.4.8-cp312-cp312-win_amd64.whl (71 kB)\n",
      "Downloading pillow-11.1.0-cp312-cp312-win_amd64.whl (2.6 MB)\n",
      "   ---------------------------------------- 0.0/2.6 MB ? eta -:--:--\n",
      "   ---------------------------------------- 2.6/2.6 MB 50.3 MB/s eta 0:00:00\n",
      "Using cached pyparsing-3.2.1-py3-none-any.whl (107 kB)\n",
      "Installing collected packages: pyparsing, pillow, numpy, kiwisolver, fonttools, cycler, contourpy, matplotlib\n",
      "Successfully installed contourpy-1.3.1 cycler-0.12.1 fonttools-4.55.3 kiwisolver-1.4.8 matplotlib-3.10.0 numpy-2.2.1 pillow-11.1.0 pyparsing-3.2.1\n",
      "Note: you may need to restart the kernel to use updated packages.\n"
     ]
    }
   ],
   "source": [
    "pip install -r requirements.txt"
   ]
  },
  {
   "cell_type": "code",
   "execution_count": 3,
   "metadata": {},
   "outputs": [
    {
     "name": "stdout",
     "output_type": "stream",
     "text": [
      "Hello World!\n"
     ]
    }
   ],
   "source": [
    "print(\"Hello World!\")"
   ]
  },
  {
   "cell_type": "code",
   "execution_count": 2,
   "metadata": {},
   "outputs": [],
   "source": [
    "import math\n",
    "import numpy as np\n",
    "import matplotlib.pyplot as plt\n",
    "\n",
    "#test scores\n",
    "scores = {\n",
    "    1: 450,\n",
    "    2: 120,\n",
    "    3: 890,\n",
    "    4: 345,\n",
    "    5: 760,\n",
    "    6: 230,\n",
    "    7: 980,\n",
    "    8: 540,\n",
    "    9: 670,\n",
    "    10: 310\n",
    "}\n",
    "\n",
    "\n",
    "#function to convert scores to probability\n",
    "def score_to_prob(scores):\n",
    "    \"\"\"\n",
    "    Converts a dictionary of scores into probabilities by normalizing the values.\n",
    "\n",
    "    Args:\n",
    "        scores (dict): Dictionary with keys as IDs and values as scores.\n",
    "\n",
    "    Returns:\n",
    "        dict: Dictionary with keys as IDs and values as probabilities.\n",
    "    \"\"\"\n",
    "    prob = {}\n",
    "    sum_scores = sum(scores.values())\n",
    "    for key, value in scores.items():\n",
    "        prob[key] = value / sum_scores\n",
    "    return (prob)\n",
    "\n",
    "#function to choose next verb based on scores\n",
    "def next_verb(scores):\n",
    "    \"\"\"\n",
    "    Simulates verb selection based on scores and plots results against the original scores.\n",
    "\n",
    "    Args:\n",
    "        scores (dict): Dictionary with keys as IDs and values as scores.\n",
    "        n (int): Number of simulation iterations.\n",
    "\n",
    "    Returns:\n",
    "        None\n",
    "    \"\"\"\n",
    "    prob = score_to_prob(scores)\n",
    "    verb_choose = np.random.choice(list(prob.keys()), p=list(prob.values()))\n",
    "    return (verb_choose)\n",
    "\n",
    "#function to plot the simulation and comppare with the real data\n",
    "def simulation_plot_verb(scores, n):\n",
    "    \"\"\"\n",
    "    Plots a simulation of verb selection compared to the original probabilities.\n",
    "\n",
    "    Args:\n",
    "        scores (dict): Dictionary where keys are IDs and values are scores.\n",
    "        n (int): Number of iterations in the simulation.\n",
    "\n",
    "    Returns:\n",
    "        None\n",
    "    \"\"\"\n",
    "    count_selections = {}\n",
    "    for key, value in scores.items():\n",
    "        count_selections[key] = 0\n",
    "    for i in range(n):\n",
    "        verb_choose = next_verb(scores)\n",
    "        if verb_choose in count_selections:\n",
    "            count_selections[verb_choose] += 1 \n",
    "    plt.subplot(1, 2, 1)\n",
    "    plt.bar(count_selections.keys(), count_selections.values(),\n",
    "            edgecolor='black', color='skyblue', alpha=0.5)\n",
    "    plt.title(\"Simulation\")\n",
    "    plt.xlabel(\"Verbs key\")\n",
    "    plt.ylabel(\"Count\")\n",
    "    # Removing uppern and right line\n",
    "    for pos in ['right', 'top']:\n",
    "        plt.gca().spines[pos].set_visible(False)\n",
    "    plt.grid(True, linestyle='--', alpha=0.3)\n",
    "\n",
    "    plt.subplot(1, 2, 2)\n",
    "    plt.bar(scores.keys(), scores.values(), edgecolor='black', color='skyblue', alpha=0.5)\n",
    "    plt.title(\"Probabilities\")\n",
    "    plt.xlabel(\"Verbs key\")\n",
    "    # Removing uppern and right line\n",
    "    for pos in ['right', 'top']:\n",
    "        plt.gca().spines[pos].set_visible(False)\n",
    "    plt.grid(True, linestyle='--', alpha=0.3)\n",
    "\n",
    "    plt.tight_layout()\n",
    "    plt.show()\n",
    "\n",
    "# Select n verbs for a training session\n",
    "def verbs_session(scores, n):\n",
    "    temp_scores = scores.copy()\n",
    "    selected_verbs = []\n",
    "    for i in range(n):\n",
    "        verb_choose = next_verb(temp_scores)\n",
    "        # print(verb_choose)\n",
    "        selected_verbs.append(verb_choose)\n",
    "        del temp_scores[verb_choose]\n",
    "    return (selected_verbs)\n",
    "\n",
    "def cor_answer(score):\n",
    "    return (score * 0.7)\n",
    "\n",
    "def wr_answer(score, rank, n):\n",
    "    a1 = 1.2+((n - rank + 1) / (n - 1))\n",
    "    return (score * a1)\n",
    "\n",
    "def next_scores(results, scores):\n",
    "    new_scores = {}\n",
    "    for key, value in scores.items():\n",
    "        if results[key] == 1:\n",
    "            new_scores[key] = cor_answer(value)\n",
    "        else:\n",
    "            new_scores[key] = wr_answer(value, key, len(scores))\n",
    "    return (new_scores)\n",
    "\n",
    "    \n"
   ]
  },
  {
   "cell_type": "code",
   "execution_count": 20,
   "metadata": {},
   "outputs": [
    {
     "data": {
      "image/png": "[encoded data removed]",
      "text/plain": [
       "<Figure size 640x480 with 2 Axes>"
      ]
     },
     "metadata": {},
     "output_type": "display_data"
    }
   ],
   "source": [
    "simulation_plot_verb(scores, 10000)"
   ]
  },
  {
   "cell_type": "code",
   "execution_count": 16,
   "metadata": {},
   "outputs": [
    {
     "name": "stdout",
     "output_type": "stream",
     "text": [
      "umbalanced numbers\n",
      "[2, 3, 5]\n",
      "[2, 3, 5]\n",
      "[2, 3, 5]\n",
      "[2, 3, 5]\n",
      "[2, 3, 5]\n",
      "balanced numbers\n",
      "[5, 7, 9]\n",
      "[3, 5, 7]\n",
      "[2, 9, 10]\n",
      "[5, 7, 8]\n",
      "[4, 7, 9]\n"
     ]
    }
   ],
   "source": [
    "scores1 = {1: 50, 2: 2000, 3: 3000, 4: 100, 5: 5000, 6: 230, 7: 10, 8: 40, 9: 60, 10: 10}\n",
    "scores2 = {1: 450, 2: 120, 3: 890, 4: 345, 5: 760, 6: 230, 7: 980, 8: 540, 9: 670, 10: 310}\n",
    "\n",
    "\n",
    "print(\"umbalanced numbers\")\n",
    "print(sorted(list(map(int, verbs_session(scores1, 3)))))\n",
    "print(sorted(list(map(int, verbs_session(scores1, 3)))))\n",
    "print(sorted(list(map(int, verbs_session(scores1, 3)))))\n",
    "print(sorted(list(map(int, verbs_session(scores1, 3)))))\n",
    "print(sorted(list(map(int, verbs_session(scores1, 3)))))\n",
    "\n",
    "print(\"balanced numbers\")\n",
    "print(sorted(list(map(int, verbs_session(scores2, 3)))))\n",
    "print(sorted(list(map(int, verbs_session(scores2, 3)))))\n",
    "print(sorted(list(map(int, verbs_session(scores2, 3)))))\n",
    "print(sorted(list(map(int, verbs_session(scores2, 3)))))\n",
    "print(sorted(list(map(int, verbs_session(scores2, 3)))))\n",
    "\n"
   ]
  },
  {
   "cell_type": "code",
   "execution_count": 21,
   "metadata": {},
   "outputs": [
    {
     "name": "stdout",
     "output_type": "stream",
     "text": [
      "700.0\n",
      "2201.001001001001\n",
      "1801.6016016016017\n",
      "1202.002002002002\n"
     ]
    },
    {
     "data": {
      "image/png": "[encoded data removed]",
      "text/plain": [
       "<Figure size 640x480 with 1 Axes>"
      ]
     },
     "metadata": {},
     "output_type": "display_data"
    }
   ],
   "source": [
    "print(cor_answer(1000))\n",
    "print(wr_answer(1000, 1, 1000))\n",
    "print(wr_answer(1000, 400, 1000))\n",
    "print(wr_answer(1000, 999, 1000))\n",
    "\n",
    "answrs = []\n",
    "for i in range(1, 1001):\n",
    "    answrs.append(wr_answer(1000, i, 1000))\n",
    "plt.plot(answrs)\n",
    "plt.show()"
   ]
  },
  {
   "cell_type": "code",
   "execution_count": 25,
   "metadata": {},
   "outputs": [
    {
     "name": "stdout",
     "output_type": "stream",
     "text": [
      "{1: 315.0, 2: 264.0, 3: 623.0, 4: 682.3333333333334, 5: 532.0, 6: 403.77777777777777, 7: 686.0, 8: 378.0, 9: 468.99999999999994, 10: 406.44444444444446}\n"
     ]
    }
   ],
   "source": [
    "ex_scores = {1: 450, 2: 120, 3: 890, 4: 345, 5: 760, 6: 230, 7: 980, 8: 540, 9: 670, 10: 310}\n",
    "ex_results = {1: 1, 2: 0, 3: 1, 4: 0, 5: 1, 6: 0, 7: 1, 8: 1, 9: 1, 10: 0}\n",
    "\n",
    "new_results = next_scores(ex_results, ex_scores)\n",
    "print(new_results)"
   ]
  },
  {
   "cell_type": "code",
   "execution_count": 10,
   "metadata": {},
   "outputs": [
    {
     "data": {
      "text/plain": [
       "[np.int64(1), np.int64(4), np.int64(2), np.int64(6), np.int64(8)]"
      ]
     },
     "execution_count": 10,
     "metadata": {},
     "output_type": "execute_result"
    }
   ],
   "source": [
    "scores_iniciales = {\n",
    "    1: 1000,\n",
    "    2: 1000,\n",
    "    3: 1000,\n",
    "    4: 1000,\n",
    "    5: 1000,\n",
    "    6: 1000,\n",
    "    7: 1000,\n",
    "    8: 1000,\n",
    "    9: 1000,\n",
    "    10: 1000\n",
    "}\n",
    "# tener una función que analice cuando el score_prom > 650\n",
    "\n",
    "intentos = [1,5,10,20,50,100]\n",
    "tasa_prob = [0,25,50,75,100]\n",
    "\n",
    "def simulacion(scores_iniciales: dict, intentos: list, tasa_prob: list) -> dict:\n",
    "    for i in len(intentos):\n",
    "        for j in len(tasa_prob):\n",
    "            for k in intentos[i]:"
   ]
  },
  {
   "cell_type": "code",
   "execution_count": 151,
   "metadata": {},
   "outputs": [
    {
     "data": {
      "text/plain": [
       "{1: {'score': 1000, 'streak': 1, 'right_count': 0, 'wrong_count': 0},\n",
       " 2: {'score': 1000, 'streak': 1, 'right_count': 0, 'wrong_count': 0},\n",
       " 3: {'score': 1000, 'streak': 1, 'right_count': 0, 'wrong_count': 0},\n",
       " 4: {'score': 1000, 'streak': 1, 'right_count': 0, 'wrong_count': 0},\n",
       " 5: {'score': 1000, 'streak': 1, 'right_count': 0, 'wrong_count': 0},\n",
       " 6: {'score': 1000, 'streak': 1, 'right_count': 0, 'wrong_count': 0},\n",
       " 7: {'score': 1000, 'streak': 1, 'right_count': 0, 'wrong_count': 0},\n",
       " 8: {'score': 1000, 'streak': 1, 'right_count': 0, 'wrong_count': 0},\n",
       " 9: {'score': 1000, 'streak': 1, 'right_count': 0, 'wrong_count': 0},\n",
       " 10: {'score': 1000, 'streak': 1, 'right_count': 0, 'wrong_count': 0}}"
      ]
     },
     "execution_count": 151,
     "metadata": {},
     "output_type": "execute_result"
    }
   ],
   "source": [
    "INITIAL_VALUES = {'score': 1000, 'streak': 1, 'right_count': 0, 'wrong_count': 0}\n",
    "INITIAL_N_VERBS = 10\n",
    "\n",
    "base_scores = {id:INITIAL_VALUES.copy() for id in range(1, INITIAL_N_VERBS + 1)}\n",
    "\n",
    "base_scores"
   ]
  },
  {
   "cell_type": "code",
   "execution_count": 152,
   "metadata": {},
   "outputs": [
    {
     "data": {
      "text/plain": [
       "{1: {'score': 1000, 'streak': 1, 'right_count': 0, 'wrong_count': 0},\n",
       " 2: {'score': 1000, 'streak': 1, 'right_count': 0, 'wrong_count': 0},\n",
       " 3: {'score': 1000, 'streak': 1, 'right_count': 0, 'wrong_count': 0},\n",
       " 4: {'score': 1000, 'streak': 1, 'right_count': 0, 'wrong_count': 0},\n",
       " 5: {'score': 1000, 'streak': 1, 'right_count': 0, 'wrong_count': 0},\n",
       " 6: {'score': 1000, 'streak': 1, 'right_count': 0, 'wrong_count': 0},\n",
       " 7: {'score': 1000, 'streak': 1, 'right_count': 0, 'wrong_count': 0},\n",
       " 8: {'score': 1000, 'streak': 1, 'right_count': 0, 'wrong_count': 0},\n",
       " 9: {'score': 1000, 'streak': 1, 'right_count': 0, 'wrong_count': 0},\n",
       " 10: {'score': 1000, 'streak': 1, 'right_count': 0, 'wrong_count': 0}}"
      ]
     },
     "execution_count": 152,
     "metadata": {},
     "output_type": "execute_result"
    }
   ],
   "source": [
    "N_VERBS = 1000\n",
    "def wrong_answer(scores, index):\n",
    "    mult = 1.2 + ((N_VERBS - index + 1) / (N_VERBS - 1))\n",
    "    scores[index]['score'] *= mult\n",
    "    scores[index]['streak'] = 1\n",
    "    if (scores[index]['score'] > 10**5):\n",
    "        scores[index]['score'] = 10**5\n",
    "\n",
    "#wrong_answer(base_scores, 1)\n",
    "base_scores"
   ]
  },
  {
   "cell_type": "code",
   "execution_count": 97,
   "metadata": {},
   "outputs": [
    {
     "data": {
      "text/plain": [
       "{1: {'score': 1, 'streak': 12, 'right_count': 0, 'wrong_count': 0},\n",
       " 2: {'score': 1000, 'streak': 1, 'right_count': 0, 'wrong_count': 0},\n",
       " 3: {'score': 1000, 'streak': 1, 'right_count': 0, 'wrong_count': 0},\n",
       " 4: {'score': 1000, 'streak': 1, 'right_count': 0, 'wrong_count': 0},\n",
       " 5: {'score': 117.64899999999996,\n",
       "  'streak': 4,\n",
       "  'right_count': 0,\n",
       "  'wrong_count': 0},\n",
       " 6: {'score': 1000, 'streak': 1, 'right_count': 0, 'wrong_count': 0},\n",
       " 7: {'score': 1000, 'streak': 1, 'right_count': 0, 'wrong_count': 0},\n",
       " 8: {'score': 1000, 'streak': 1, 'right_count': 0, 'wrong_count': 0},\n",
       " 9: {'score': 1000, 'streak': 1, 'right_count': 0, 'wrong_count': 0},\n",
       " 10: {'score': 1000, 'streak': 1, 'right_count': 0, 'wrong_count': 0}}"
      ]
     },
     "execution_count": 97,
     "metadata": {},
     "output_type": "execute_result"
    }
   ],
   "source": [
    "def right_answer(scores, index):\n",
    "    scores[index]['score'] = scores[index]['score'] * (0.7 ** scores[index]['streak'])\n",
    "    scores[index]['streak'] += 1\n",
    "    if (scores[index]['score'] < 1):\n",
    "        scores[index]['score'] = 1\n",
    "\n",
    "\n",
    "right_answer(base_scores, 1)\n",
    "base_scores"
   ]
  },
  {
   "cell_type": "code",
   "execution_count": 153,
   "metadata": {},
   "outputs": [
    {
     "ename": "NameError",
     "evalue": "name 'wr_answer' is not defined",
     "output_type": "error",
     "traceback": [
      "\u001b[0;31m---------------------------------------------------------------------------\u001b[0m",
      "\u001b[0;31mNameError\u001b[0m                                 Traceback (most recent call last)",
      "Cell \u001b[0;32mIn[153], line 19\u001b[0m\n\u001b[1;32m     17\u001b[0m hint_answer(base_scores, \u001b[38;5;241m2\u001b[39m, \u001b[38;5;241m2\u001b[39m, \u001b[38;5;28mlen\u001b[39m(\u001b[38;5;124m\"\u001b[39m\u001b[38;5;124mPouvoir\u001b[39m\u001b[38;5;124m\"\u001b[39m))\n\u001b[1;32m     18\u001b[0m hint_answer(base_scores, \u001b[38;5;241m3\u001b[39m, \u001b[38;5;241m3\u001b[39m, \u001b[38;5;28mlen\u001b[39m(\u001b[38;5;124m\"\u001b[39m\u001b[38;5;124mPouvoir\u001b[39m\u001b[38;5;124m\"\u001b[39m))\n\u001b[0;32m---> 19\u001b[0m \u001b[43mhint_answer\u001b[49m\u001b[43m(\u001b[49m\u001b[43mbase_scores\u001b[49m\u001b[43m,\u001b[49m\u001b[43m \u001b[49m\u001b[38;5;241;43m4\u001b[39;49m\u001b[43m,\u001b[49m\u001b[43m \u001b[49m\u001b[38;5;241;43m4\u001b[39;49m\u001b[43m,\u001b[49m\u001b[43m \u001b[49m\u001b[38;5;28;43mlen\u001b[39;49m\u001b[43m(\u001b[49m\u001b[38;5;124;43m\"\u001b[39;49m\u001b[38;5;124;43mPouvoir\u001b[39;49m\u001b[38;5;124;43m\"\u001b[39;49m\u001b[43m)\u001b[49m\u001b[43m)\u001b[49m\n\u001b[1;32m     20\u001b[0m base_scores\n",
      "Cell \u001b[0;32mIn[153], line 5\u001b[0m, in \u001b[0;36mhint_answer\u001b[0;34m(scores, index, n_hint, len_verb)\u001b[0m\n\u001b[1;32m      3\u001b[0m base_right_answer \u001b[38;5;241m=\u001b[39m \u001b[38;5;241m1\u001b[39m \u001b[38;5;241m-\u001b[39m base_right_answer\n\u001b[1;32m      4\u001b[0m \u001b[38;5;28;01mif\u001b[39;00m (n_hint \u001b[38;5;241m>\u001b[39m\u001b[38;5;241m=\u001b[39m len_verb\u001b[38;5;241m/\u001b[39m\u001b[38;5;241m2\u001b[39m):\n\u001b[0;32m----> 5\u001b[0m     \u001b[43mwr_answer\u001b[49m(scores, index)\n\u001b[1;32m      6\u001b[0m     \u001b[38;5;28;01mreturn\u001b[39;00m\n\u001b[1;32m      7\u001b[0m \u001b[38;5;28;01melif\u001b[39;00m (n_hint \u001b[38;5;241m>\u001b[39m \u001b[38;5;241m3\u001b[39m \u001b[38;5;241m&\u001b[39m n_hint \u001b[38;5;241m<\u001b[39m len_verb\u001b[38;5;241m/\u001b[39m\u001b[38;5;241m2\u001b[39m):\n",
      "\u001b[0;31mNameError\u001b[0m: name 'wr_answer' is not defined"
     ]
    }
   ],
   "source": [
    "def hint_answer(scores, index, n_hint, len_verb):\n",
    "    base_right_answer = (0.7 ** scores[index]['streak'])\n",
    "    base_right_answer = 1 - base_right_answer\n",
    "    if (n_hint >= len_verb/2):\n",
    "        wr_answer(scores, index)\n",
    "        return\n",
    "    elif (n_hint > 3 & n_hint < len_verb/2):\n",
    "        base_right_answer = 1\n",
    "    else:\n",
    "        base_right_answer = base_right_answer * (1 - (n_hint * (1/4)))\n",
    "        base_right_answer = 1 - base_right_answer\n",
    "    scores[index]['score'] = scores[index]['score'] * base_right_answer\n",
    "    if (scores[index]['score'] < 1):\n",
    "        scores[index]['score'] = 1\n",
    "    scores[index]['streak'] = 1\n",
    "hint_answer(base_scores, 1, 1, len(\"Pouvoir\"))\n",
    "hint_answer(base_scores, 2, 2, len(\"Pouvoir\"))\n",
    "hint_answer(base_scores, 3, 3, len(\"Pouvoir\"))\n",
    "hint_answer(base_scores, 4, 4, len(\"Pouvoir\"))\n",
    "base_scores"
   ]
  },
  {
   "cell_type": "code",
   "execution_count": null,
   "metadata": {},
   "outputs": [],
   "source": [
    "def next_scores(scores, index, response):\n",
    "    if (response == 1):\n",
    "        right_answer(scores, index)\n",
    "        return (0)\n",
    "    elif (response == 0):\n",
    "        wr_answer(scores, index)\n",
    "        return (0)\n",
    "    else:\n",
    "        return(-1)\n"
   ]
  }
 ],
 "metadata": {
  "kernelspec": {
   "display_name": "Python (myenv)",
   "language": "python",
   "name": "myenv"
  },
  "language_info": {
   "codemirror_mode": {
    "name": "ipython",
    "version": 3
   },
   "file_extension": ".py",
   "mimetype": "text/x-python",
   "name": "python",
   "nbconvert_exporter": "python",
   "pygments_lexer": "ipython3",
   "version": "3.12.3"
  }
 },
 "nbformat": 4,
 "nbformat_minor": 2
}
